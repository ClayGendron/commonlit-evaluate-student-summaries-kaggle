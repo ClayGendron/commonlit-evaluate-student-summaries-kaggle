{
 "cells": [
  {
   "cell_type": "code",
   "execution_count": 1,
   "metadata": {},
   "outputs": [],
   "source": [
    "import pandas as pd\n",
    "import numpy as np\n",
    "from pyprojroot import here\n",
    "\n",
    "from spellchecker import SpellChecker\n",
    "from language_tool_python import LanguageTool"
   ]
  },
  {
   "cell_type": "code",
   "execution_count": 2,
   "metadata": {},
   "outputs": [],
   "source": [
    "train_df = pd.read_csv(here('commonlit-evaluate-student-summaries/summaries_train.csv'))\n",
    "train_promts_df = pd.read_csv(here('commonlit-evaluate-student-summaries/prompts_train.csv'))"
   ]
  },
  {
   "cell_type": "code",
   "execution_count": 3,
   "metadata": {},
   "outputs": [],
   "source": [
    "spell_checker = SpellChecker()\n",
    "\n"
   ]
  },
  {
   "cell_type": "code",
   "execution_count": 4,
   "metadata": {},
   "outputs": [],
   "source": [
    "test = train_df['text']"
   ]
  },
  {
   "cell_type": "code",
   "execution_count": 5,
   "metadata": {},
   "outputs": [],
   "source": [
    "for text in test:\n",
    "    # slip text into words\n",
    "    words = text.split()\n",
    "    misspelled = []\n",
    "    for word in words:\n",
    "        # remove punctuation and symbols from word\n",
    "        word = word.strip('.,;:–-—!?%()[]¨0123456789\\'\\\"')\n",
    "        if word == '' or word == ' ' or len(word) < 3:\n",
    "            pass\n",
    "        else:\n",
    "            word_check = spell_checker.unknown([word])\n",
    "            if len(word_check) > 0:\n",
    "                misspelled.append(word)\n",
    "                "
   ]
  },
  {
   "cell_type": "code",
   "execution_count": 6,
   "metadata": {},
   "outputs": [
    {
     "ename": "ModuleNotFoundError",
     "evalue": "No java install detected. Please install java to use language-tool-python.",
     "output_type": "error",
     "traceback": [
      "\u001b[1;31m---------------------------------------------------------------------------\u001b[0m",
      "\u001b[1;31mModuleNotFoundError\u001b[0m                       Traceback (most recent call last)",
      "Cell \u001b[1;32mIn[6], line 1\u001b[0m\n\u001b[1;32m----> 1\u001b[0m tool \u001b[39m=\u001b[39m LanguageTool(\u001b[39m'\u001b[39;49m\u001b[39men-US\u001b[39;49m\u001b[39m'\u001b[39;49m)\n\u001b[0;32m      3\u001b[0m test \u001b[39m=\u001b[39m train_df[\u001b[39m'\u001b[39m\u001b[39mtext\u001b[39m\u001b[39m'\u001b[39m][\u001b[39m0\u001b[39m:\u001b[39m1\u001b[39m]\n\u001b[0;32m      5\u001b[0m matches \u001b[39m=\u001b[39m tool\u001b[39m.\u001b[39mcheck(test)\n",
      "File \u001b[1;32mc:\\Users\\c.gendron1\\AppData\\Local\\miniconda3\\envs\\playground\\lib\\site-packages\\language_tool_python\\server.py:62\u001b[0m, in \u001b[0;36mLanguageTool.__init__\u001b[1;34m(self, language, motherTongue, remote_server, newSpellings, new_spellings_persist, host, config)\u001b[0m\n\u001b[0;32m     60\u001b[0m     \u001b[39mself\u001b[39m\u001b[39m.\u001b[39m_update_remote_server_config(\u001b[39mself\u001b[39m\u001b[39m.\u001b[39m_url)\n\u001b[0;32m     61\u001b[0m \u001b[39melif\u001b[39;00m \u001b[39mnot\u001b[39;00m \u001b[39mself\u001b[39m\u001b[39m.\u001b[39m_server_is_alive():\n\u001b[1;32m---> 62\u001b[0m     \u001b[39mself\u001b[39;49m\u001b[39m.\u001b[39;49m_start_server_on_free_port()\n\u001b[0;32m     63\u001b[0m \u001b[39mif\u001b[39;00m language \u001b[39mis\u001b[39;00m \u001b[39mNone\u001b[39;00m:\n\u001b[0;32m     64\u001b[0m     \u001b[39mtry\u001b[39;00m:\n",
      "File \u001b[1;32mc:\\Users\\c.gendron1\\AppData\\Local\\miniconda3\\envs\\playground\\lib\\site-packages\\language_tool_python\\server.py:238\u001b[0m, in \u001b[0;36mLanguageTool._start_server_on_free_port\u001b[1;34m(self)\u001b[0m\n\u001b[0;32m    236\u001b[0m \u001b[39mself\u001b[39m\u001b[39m.\u001b[39m_url \u001b[39m=\u001b[39m \u001b[39m'\u001b[39m\u001b[39mhttp://\u001b[39m\u001b[39m{}\u001b[39;00m\u001b[39m:\u001b[39m\u001b[39m{}\u001b[39;00m\u001b[39m/v2/\u001b[39m\u001b[39m'\u001b[39m\u001b[39m.\u001b[39mformat(\u001b[39mself\u001b[39m\u001b[39m.\u001b[39m_host, \u001b[39mself\u001b[39m\u001b[39m.\u001b[39m_port)\n\u001b[0;32m    237\u001b[0m \u001b[39mtry\u001b[39;00m:\n\u001b[1;32m--> 238\u001b[0m     \u001b[39mself\u001b[39;49m\u001b[39m.\u001b[39;49m_start_local_server()\n\u001b[0;32m    239\u001b[0m     \u001b[39mbreak\u001b[39;00m\n\u001b[0;32m    240\u001b[0m \u001b[39mexcept\u001b[39;00m ServerError:\n",
      "File \u001b[1;32mc:\\Users\\c.gendron1\\AppData\\Local\\miniconda3\\envs\\playground\\lib\\site-packages\\language_tool_python\\server.py:248\u001b[0m, in \u001b[0;36mLanguageTool._start_local_server\u001b[1;34m(self)\u001b[0m\n\u001b[0;32m    246\u001b[0m \u001b[39mdef\u001b[39;00m \u001b[39m_start_local_server\u001b[39m(\u001b[39mself\u001b[39m):\n\u001b[0;32m    247\u001b[0m     \u001b[39m# Before starting local server, download language tool if needed.\u001b[39;00m\n\u001b[1;32m--> 248\u001b[0m     download_lt()\n\u001b[0;32m    249\u001b[0m     err \u001b[39m=\u001b[39m \u001b[39mNone\u001b[39;00m\n\u001b[0;32m    250\u001b[0m     \u001b[39mtry\u001b[39;00m:\n",
      "File \u001b[1;32mc:\\Users\\c.gendron1\\AppData\\Local\\miniconda3\\envs\\playground\\lib\\site-packages\\language_tool_python\\download_lt.py:144\u001b[0m, in \u001b[0;36mdownload_lt\u001b[1;34m()\u001b[0m\n\u001b[0;32m    137\u001b[0m \u001b[39massert\u001b[39;00m os\u001b[39m.\u001b[39mpath\u001b[39m.\u001b[39misdir(download_folder)\n\u001b[0;32m    138\u001b[0m old_path_list \u001b[39m=\u001b[39m [\n\u001b[0;32m    139\u001b[0m     path \u001b[39mfor\u001b[39;00m path \u001b[39min\u001b[39;00m\n\u001b[0;32m    140\u001b[0m     glob\u001b[39m.\u001b[39mglob(os\u001b[39m.\u001b[39mpath\u001b[39m.\u001b[39mjoin(download_folder, \u001b[39m'\u001b[39m\u001b[39mLanguageTool*\u001b[39m\u001b[39m'\u001b[39m))\n\u001b[0;32m    141\u001b[0m     \u001b[39mif\u001b[39;00m os\u001b[39m.\u001b[39mpath\u001b[39m.\u001b[39misdir(path)\n\u001b[0;32m    142\u001b[0m ]\n\u001b[1;32m--> 144\u001b[0m confirm_java_compatibility()\n\u001b[0;32m    145\u001b[0m version \u001b[39m=\u001b[39m LATEST_VERSION\n\u001b[0;32m    146\u001b[0m filename \u001b[39m=\u001b[39m FILENAME\u001b[39m.\u001b[39mformat(version\u001b[39m=\u001b[39mversion)\n",
      "File \u001b[1;32mc:\\Users\\c.gendron1\\AppData\\Local\\miniconda3\\envs\\playground\\lib\\site-packages\\language_tool_python\\download_lt.py:75\u001b[0m, in \u001b[0;36mconfirm_java_compatibility\u001b[1;34m()\u001b[0m\n\u001b[0;32m     70\u001b[0m java_path \u001b[39m=\u001b[39m find_executable(\u001b[39m'\u001b[39m\u001b[39mjava\u001b[39m\u001b[39m'\u001b[39m)\n\u001b[0;32m     71\u001b[0m \u001b[39mif\u001b[39;00m \u001b[39mnot\u001b[39;00m java_path:\n\u001b[0;32m     72\u001b[0m     \u001b[39m# Just ignore this and assume an old version of Java. It might not be\u001b[39;00m\n\u001b[0;32m     73\u001b[0m     \u001b[39m# found because of a PATHEXT-related issue\u001b[39;00m\n\u001b[0;32m     74\u001b[0m     \u001b[39m# (https://bugs.python.org/issue2200).\u001b[39;00m\n\u001b[1;32m---> 75\u001b[0m     \u001b[39mraise\u001b[39;00m \u001b[39mModuleNotFoundError\u001b[39;00m(\u001b[39m'\u001b[39m\u001b[39mNo java install detected. Please install java to use language-tool-python.\u001b[39m\u001b[39m'\u001b[39m)\n\u001b[0;32m     77\u001b[0m output \u001b[39m=\u001b[39m subprocess\u001b[39m.\u001b[39mcheck_output([java_path, \u001b[39m'\u001b[39m\u001b[39m-version\u001b[39m\u001b[39m'\u001b[39m],\n\u001b[0;32m     78\u001b[0m                                  stderr\u001b[39m=\u001b[39msubprocess\u001b[39m.\u001b[39mSTDOUT,\n\u001b[0;32m     79\u001b[0m                                  universal_newlines\u001b[39m=\u001b[39m\u001b[39mTrue\u001b[39;00m)\n\u001b[0;32m     81\u001b[0m major_version, minor_version \u001b[39m=\u001b[39m parse_java_version(output)\n",
      "\u001b[1;31mModuleNotFoundError\u001b[0m: No java install detected. Please install java to use language-tool-python."
     ]
    }
   ],
   "source": [
    "tool = LanguageTool('en-US')\n",
    "\n",
    "test = train_df['text'][0:1]\n",
    "\n",
    "matches = tool.check(test)\n",
    "\n",
    "for match in matches:\n",
    "    print(match)\n",
    "    \n",
    "tool.close()"
   ]
  },
  {
   "cell_type": "code",
   "execution_count": null,
   "metadata": {},
   "outputs": [],
   "source": []
  }
 ],
 "metadata": {
  "kernelspec": {
   "display_name": "playground",
   "language": "python",
   "name": "python3"
  },
  "language_info": {
   "codemirror_mode": {
    "name": "ipython",
    "version": 3
   },
   "file_extension": ".py",
   "mimetype": "text/x-python",
   "name": "python",
   "nbconvert_exporter": "python",
   "pygments_lexer": "ipython3",
   "version": "3.10.9"
  },
  "orig_nbformat": 4
 },
 "nbformat": 4,
 "nbformat_minor": 2
}
